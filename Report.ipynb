{
 "cells": [
  {
   "cell_type": "markdown",
   "metadata": {},
   "source": [
    "**Introduction**: Lagos is one the most populous cities in the world. I grew up in Surelere and although many might disagree, I think it's the best city in Lagos. Cities in Lagos are referred to as Local Governments and there are about 20 in Lagos State. With some of the coolest hangout spots in Lagos located in Surulere, Surulere is the place to be. In this project I want to segment the different Local Governments in Lagos State to see which LGAs in Brooklyn are closely related to Surulere. I am going to use the Foursquare API to compare the neighborhoods based on the popular venues like restaurants, bars, gyms, and more, that are present in the different neighborhood"
   ]
  },
  {
   "cell_type": "markdown",
   "metadata": {},
   "source": [
    "**Data Section**: In order to be able to properly cluster the variou local governments in Lagos and ad display it on a map, I'll need the following data; Name of the Local Governments Latititude and Longitude of each Local Government Popular spots in all the Local Governments\n",
    "\n",
    "I was able to get the Name, Population, and Postal code by scrapping data from various sources online. The latitude and longitude of the data were obtained manually from https://www.gps-coordinates.net/ .\n",
    "\n",
    "The Foursquare API was used to obtain popular spots in all the local governments."
   ]
  },
  {
   "cell_type": "markdown",
   "metadata": {},
   "source": [
    "**Exploratory Data Analysis**: Once I had my dataframe created I was ready to explore the data. For this project I wanted to map out the Local Governments and eventually group them into 5 different clusters. Firstly I just wanted to map out the different neighborhoods and make sure my map looked good. So the first thing I did was plot out the Local Governments in Lagos using the Python Folium library. I used the latitude and longitude of each neighborhood and the map came out as below: \n",
    "<img src=\"Untitled3 - Jupyter Notebook - Google Chrome 2_14_2020 9_57_55 AM.png\"> \n",
    "\n",
    "Everything looks good to me. From there I wanted to do the same thing, but only look at the venues that are located in my neighborhood, Surulere. There were only 53 venues found in my neighborhood. The map is visualized below\n",
    "\n",
    "<img src=\"2.png\"> \n",
    "\n",
    "\n"
   ]
  },
  {
   "cell_type": "markdown",
   "metadata": {},
   "source": [
    "I was ready to group all the categories of the different venues in each LGA in Lagos. I then had to encode the data and get dummy variables of all the different categories. Once I did that I was able to break down the frequency of the different categories of each neighborhood. Now I was almost ready to start clustering the neighborhoods. To make things easier I only wanted to use the top 10 venues in each neighborhood for comparison. I created a new dataframe with the neighborhoods and the top 10 venues and the top 5 rows which looked like this:\n",
    "\n",
    "<img src=\"3.png\"> \n",
    "\n",
    "Once that was done I could run a k-means clustering algorithm on the data and assign a cluster to every neighborhood that was similar to one another. From there I was able to look at my results and compare the neighborhoods."
   ]
  },
  {
   "cell_type": "markdown",
   "metadata": {},
   "source": [
    "Results: After I ran the k-means clustering on the data and added the clusters to the data frame I wanted to map out all the different clusters to get a nice visualization of the similar neighborhoods. Below is the map with my neighborhood pointed out:\n",
    "\n",
    "<img src=\"5.png\"> "
   ]
  },
  {
   "cell_type": "markdown",
   "metadata": {},
   "source": [
    "**Conclusion**: My neighborhood, Surulere was located in the largest cluster of all of them. My initial hypothesis was that Surulere was going to be more like Eti-Osa, but I was surprised that Eti-Osa was more like Stelite Town. I think this might be because of the presence of many affluent individuals in these neighnourhoods. \n",
    "Apparently my neighborhood isn't to unique. My neighborhood is much more like most other Bronx neighborhoods and southern and eastern Brooklyn neighborhoods. I was thinking about moving to the north western part of Brooklyn (the green cluster). Apparently it's not as similar to my neighborhood as I would've thought. I'm sure it has to do with the gentrification of those Brooklyn neighborhoods and hipster influence on them. Like I stated in the introduction my neighborhood has a high median age, which would have an affect on what type of venues would be in each neighborhood.\n",
    "\n",
    "Some further examination to be done: Add more clusters. Look at features such as crime rate, demographics, and median age of each neighborhood. Use the top 20 or 30 venues next time instead of just the top 10."
   ]
  },
  {
   "cell_type": "code",
   "execution_count": null,
   "metadata": {},
   "outputs": [],
   "source": []
  }
 ],
 "metadata": {
  "kernelspec": {
   "display_name": "Python 3",
   "language": "python",
   "name": "python3"
  },
  "language_info": {
   "codemirror_mode": {
    "name": "ipython",
    "version": 3
   },
   "file_extension": ".py",
   "mimetype": "text/x-python",
   "name": "python",
   "nbconvert_exporter": "python",
   "pygments_lexer": "ipython3",
   "version": "3.7.3"
  }
 },
 "nbformat": 4,
 "nbformat_minor": 2
}
